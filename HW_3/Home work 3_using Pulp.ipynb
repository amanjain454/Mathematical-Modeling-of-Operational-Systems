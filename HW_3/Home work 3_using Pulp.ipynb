{
 "cells": [
  {
   "cell_type": "code",
   "execution_count": 30,
   "metadata": {},
   "outputs": [],
   "source": [
    "## Importing relevant libraries"
   ]
  },
  {
   "cell_type": "code",
   "execution_count": 31,
   "metadata": {},
   "outputs": [],
   "source": [
    "from pulp import *\n",
    "import pandas as pd\n",
    "import numpy as np"
   ]
  },
  {
   "cell_type": "code",
   "execution_count": 8,
   "metadata": {},
   "outputs": [],
   "source": [
    "## Reading resources data into a 30*30 matrix (from PabFab to 24x18PVCFlec in order)\n",
    "## its been converted to its sparse form, by putting 0s for not listed resources in the input data. "
   ]
  },
  {
   "cell_type": "code",
   "execution_count": 34,
   "metadata": {},
   "outputs": [],
   "source": [
    "df_1 = pd.read_csv('Bill Of Resources.csv', index_col=0)\n",
    "resources_bill = df_1.to_numpy()"
   ]
  },
  {
   "cell_type": "code",
   "execution_count": 35,
   "metadata": {},
   "outputs": [
    {
     "data": {
      "text/plain": [
       "0.0"
      ]
     },
     "execution_count": 35,
     "metadata": {},
     "output_type": "execute_result"
    }
   ],
   "source": [
    "resources_bill[29][29]"
   ]
  },
  {
   "cell_type": "code",
   "execution_count": 26,
   "metadata": {},
   "outputs": [],
   "source": [
    "## Reading supply data into a 30*7 matrix \n",
    "## (Rows: from PabFab to 24x18PVCFlec in order, Columns: column[0] corresponds to week 1)"
   ]
  },
  {
   "cell_type": "code",
   "execution_count": 37,
   "metadata": {},
   "outputs": [],
   "source": [
    "df_2 = pd.read_csv('supply_data.csv', index_col=0)\n",
    "supply = df_2.to_numpy()"
   ]
  },
  {
   "cell_type": "code",
   "execution_count": 39,
   "metadata": {},
   "outputs": [
    {
     "data": {
      "text/plain": [
       "array([[ 3000,     0,     0,     0,     0,     0,     0],\n",
       "       [ 5000,     0,     0,     0,     0,     0,     0],\n",
       "       [ 6500,     0,     0,     0,     0,     0,     0],\n",
       "       [10500,     0,     0,     0,     0,     0,     0],\n",
       "       [  200,     0,     0,     0,     0,     0,     0],\n",
       "       [  400,     0,     0,     0,     0,     0,     0],\n",
       "       [  400,     0,     0,     0,     0,     0,     0],\n",
       "       [  180,   180,   180,   180,   150,     0,     0],\n",
       "       [  240,   240,   240,   240,   240,     0,     0],\n",
       "       [  240,   240,   240,   300,   300,     0,     0],\n",
       "       [  480,   480,     0,   360,   360,     0,     0],\n",
       "       [  240,   240,   240,   240,   240,     0,     0],\n",
       "       [    0,     0,     0,     0,     0,     0,     0],\n",
       "       [    0,     0,     0,     0,     0,     0,     0],\n",
       "       [    0,     0,     0,     0,     0,     0,     0],\n",
       "       [    0,     0,     0,     0,     0,     0,     0],\n",
       "       [    0,     0,     0,     0,     0,     0,     0],\n",
       "       [    0,     0,     0,     0,     0,     0,     0],\n",
       "       [    0,     0,     0,     0,     0,     0,     0],\n",
       "       [    0,     0,     0,     0,     0,     0,     0],\n",
       "       [    0,     0,     0,     0,     0,     0,     0],\n",
       "       [    0,     0,     0,     0,     0,     0,     0],\n",
       "       [    0,     0,     0,     0,     0,     0,     0],\n",
       "       [    0,     0,     0,     0,     0,     0,     0],\n",
       "       [    0,     0,     0,     0,     0,     0,     0],\n",
       "       [    0,     0,     0,     0,     0,     0,     0],\n",
       "       [    0,     0,     0,     0,     0,     0,     0],\n",
       "       [    0,     0,     0,     0,     0,     0,     0],\n",
       "       [    0,     0,     0,     0,     0,     0,     0],\n",
       "       [    0,     0,     0,     0,     0,     0,     0]])"
      ]
     },
     "execution_count": 39,
     "metadata": {},
     "output_type": "execute_result"
    }
   ],
   "source": [
    "supply"
   ]
  },
  {
   "cell_type": "code",
   "execution_count": 17,
   "metadata": {},
   "outputs": [],
   "source": [
    "## Reading Scrapping cost into a 30*7 matrix \n",
    "## (Rows: from PabFab to 24x18PVCFlec in order, Columns: column[0] corresponds to week 1)"
   ]
  },
  {
   "cell_type": "code",
   "execution_count": 40,
   "metadata": {},
   "outputs": [],
   "source": [
    "df_3 = pd.read_csv('scr_cost.csv', index_col=0)\n",
    "scr_cost = df_3.to_numpy()"
   ]
  },
  {
   "cell_type": "code",
   "execution_count": 42,
   "metadata": {},
   "outputs": [],
   "source": [
    "## Reading inventory cost into a 30*7 matrix \n",
    "## (Rows: from PabFab to 24x18PVCFlec in order, Columns: column[0] corresponds to week 1)\n",
    "## very high inventory cost (10000) has been modelled for the non inventorible resources. "
   ]
  },
  {
   "cell_type": "code",
   "execution_count": 43,
   "metadata": {},
   "outputs": [],
   "source": [
    "df_4 = pd.read_csv('inventory_cost.csv', index_col=0)\n",
    "inv_cost = df_4.to_numpy()"
   ]
  },
  {
   "cell_type": "code",
   "execution_count": null,
   "metadata": {},
   "outputs": [],
   "source": [
    "## Reading demand into a 30*7 matrix \n",
    "## (Rows: from PabFab to 24x18PVCFlec in order, Columns: column[0] corresponds to week 1)\n",
    "## sparse metrix has been modelled for demand as 0 for items not mentioned in the data. "
   ]
  },
  {
   "cell_type": "code",
   "execution_count": 44,
   "metadata": {},
   "outputs": [],
   "source": [
    "df_5 = pd.read_csv('demand.csv', index_col=0)\n",
    "demand = df_5.to_numpy()"
   ]
  },
  {
   "cell_type": "code",
   "execution_count": null,
   "metadata": {},
   "outputs": [],
   "source": [
    "## Reading revenue into a 30*7 matrix \n",
    "## (Rows: from PabFab to 24x18PVCFlec in order, Columns: column[0] corresponds to week 1)\n",
    "## sparse metrix has been modelled for demand as 0 for items not mentioned in the data. \n",
    "## it will be later modelled into a 3-D matrix assuming penalty for sending an item with delay of a week or so. "
   ]
  },
  {
   "cell_type": "code",
   "execution_count": 45,
   "metadata": {},
   "outputs": [],
   "source": [
    "df_6 = pd.read_csv('revenue.csv', index_col=0)\n",
    "revenue = df_6.to_numpy()"
   ]
  },
  {
   "cell_type": "code",
   "execution_count": 46,
   "metadata": {},
   "outputs": [],
   "source": [
    "penalty = 0.95"
   ]
  },
  {
   "cell_type": "code",
   "execution_count": null,
   "metadata": {},
   "outputs": [],
   "source": [
    "## Setting up revenue array taking into account the penalty"
   ]
  },
  {
   "cell_type": "code",
   "execution_count": 58,
   "metadata": {},
   "outputs": [],
   "source": [
    "revenue_3D = np.zeros((30, 7, 7))"
   ]
  },
  {
   "cell_type": "code",
   "execution_count": 59,
   "metadata": {},
   "outputs": [
    {
     "data": {
      "text/plain": [
       "1470"
      ]
     },
     "execution_count": 59,
     "metadata": {},
     "output_type": "execute_result"
    }
   ],
   "source": [
    "revenue_3D.size"
   ]
  },
  {
   "cell_type": "code",
   "execution_count": 63,
   "metadata": {},
   "outputs": [],
   "source": [
    "for i in range(0,30):\n",
    "    for j in range (0,7):\n",
    "        for k in range (0,7):\n",
    "            if(k<j):\n",
    "                revenue_3D[i][j][k] = 0 \n",
    "            elif (k==j):\n",
    "                revenue_3D[i][j][k] = revenue[i][j]\n",
    "            elif (k>j):\n",
    "                revenue_3D[i][j][k] = revenue[i][j]*pow(penalty, k-j)\n",
    "                "
   ]
  },
  {
   "cell_type": "code",
   "execution_count": 66,
   "metadata": {},
   "outputs": [
    {
     "data": {
      "text/plain": [
       "array([[[ 0.        ,  0.        ,  0.        , ...,  0.        ,\n",
       "          0.        ,  0.        ],\n",
       "        [ 0.        ,  0.        ,  0.        , ...,  0.        ,\n",
       "          0.        ,  0.        ],\n",
       "        [ 0.        ,  0.        ,  0.        , ...,  0.        ,\n",
       "          0.        ,  0.        ],\n",
       "        ...,\n",
       "        [ 0.        ,  0.        ,  0.        , ...,  0.        ,\n",
       "          0.        ,  0.        ],\n",
       "        [ 0.        ,  0.        ,  0.        , ...,  0.        ,\n",
       "          0.        ,  0.        ],\n",
       "        [ 0.        ,  0.        ,  0.        , ...,  0.        ,\n",
       "          0.        ,  0.        ]],\n",
       "\n",
       "       [[ 0.        ,  0.        ,  0.        , ...,  0.        ,\n",
       "          0.        ,  0.        ],\n",
       "        [ 0.        ,  0.        ,  0.        , ...,  0.        ,\n",
       "          0.        ,  0.        ],\n",
       "        [ 0.        ,  0.        ,  0.        , ...,  0.        ,\n",
       "          0.        ,  0.        ],\n",
       "        ...,\n",
       "        [ 0.        ,  0.        ,  0.        , ...,  0.        ,\n",
       "          0.        ,  0.        ],\n",
       "        [ 0.        ,  0.        ,  0.        , ...,  0.        ,\n",
       "          0.        ,  0.        ],\n",
       "        [ 0.        ,  0.        ,  0.        , ...,  0.        ,\n",
       "          0.        ,  0.        ]],\n",
       "\n",
       "       [[ 0.        ,  0.        ,  0.        , ...,  0.        ,\n",
       "          0.        ,  0.        ],\n",
       "        [ 0.        ,  0.        ,  0.        , ...,  0.        ,\n",
       "          0.        ,  0.        ],\n",
       "        [ 0.        ,  0.        ,  0.        , ...,  0.        ,\n",
       "          0.        ,  0.        ],\n",
       "        ...,\n",
       "        [ 0.        ,  0.        ,  0.        , ...,  0.        ,\n",
       "          0.        ,  0.        ],\n",
       "        [ 0.        ,  0.        ,  0.        , ...,  0.        ,\n",
       "          0.        ,  0.        ],\n",
       "        [ 0.        ,  0.        ,  0.        , ...,  0.        ,\n",
       "          0.        ,  0.        ]],\n",
       "\n",
       "       ...,\n",
       "\n",
       "       [[22.24      , 21.128     , 20.0716    , ..., 18.114619  ,\n",
       "         17.20888805, 16.34844365],\n",
       "        [ 0.        , 22.24      , 21.128     , ..., 19.06802   ,\n",
       "         18.114619  , 17.20888805],\n",
       "        [ 0.        ,  0.        , 22.24      , ..., 20.0716    ,\n",
       "         19.06802   , 18.114619  ],\n",
       "        ...,\n",
       "        [ 0.        ,  0.        ,  0.        , ..., 22.24      ,\n",
       "         21.128     , 20.0716    ],\n",
       "        [ 0.        ,  0.        ,  0.        , ...,  0.        ,\n",
       "         18.92      , 17.974     ],\n",
       "        [ 0.        ,  0.        ,  0.        , ...,  0.        ,\n",
       "          0.        , 18.92      ]],\n",
       "\n",
       "       [[15.24      , 14.478     , 13.7541    , ..., 12.41307525,\n",
       "         11.79242149, 11.20280041],\n",
       "        [ 0.        , 15.24      , 14.478     , ..., 13.066395  ,\n",
       "         12.41307525, 11.79242149],\n",
       "        [ 0.        ,  0.        , 15.24      , ..., 13.7541    ,\n",
       "         13.066395  , 12.41307525],\n",
       "        ...,\n",
       "        [ 0.        ,  0.        ,  0.        , ..., 15.24      ,\n",
       "         14.478     , 13.7541    ],\n",
       "        [ 0.        ,  0.        ,  0.        , ...,  0.        ,\n",
       "         11.24      , 10.678     ],\n",
       "        [ 0.        ,  0.        ,  0.        , ...,  0.        ,\n",
       "          0.        , 11.24      ]],\n",
       "\n",
       "       [[14.98      , 14.231     , 13.51945   , ..., 12.20130362,\n",
       "         11.59123844, 11.01167652],\n",
       "        [ 0.        , 14.98      , 14.231     , ..., 12.8434775 ,\n",
       "         12.20130362, 11.59123844],\n",
       "        [ 0.        ,  0.        , 14.98      , ..., 13.51945   ,\n",
       "         12.8434775 , 12.20130362],\n",
       "        ...,\n",
       "        [ 0.        ,  0.        ,  0.        , ..., 14.98      ,\n",
       "         14.231     , 13.51945   ],\n",
       "        [ 0.        ,  0.        ,  0.        , ...,  0.        ,\n",
       "          9.99      ,  9.4905    ],\n",
       "        [ 0.        ,  0.        ,  0.        , ...,  0.        ,\n",
       "          0.        ,  9.99      ]]])"
      ]
     },
     "execution_count": 66,
     "metadata": {},
     "output_type": "execute_result"
    }
   ],
   "source": [
    "revenue_3D"
   ]
  },
  {
   "cell_type": "code",
   "execution_count": null,
   "metadata": {},
   "outputs": [],
   "source": [
    "## Initiating variable arrays"
   ]
  },
  {
   "cell_type": "code",
   "execution_count": 69,
   "metadata": {},
   "outputs": [],
   "source": [
    "y_i_t_tau = np.zeros((30, 7, 7)) ## units sold of product i (1D) of demand period t (2D) in period tau (3D)\n",
    "x_i_t = np.zeros((30,7))   ## production of product i (row) in period t (column)\n",
    "v_i_t = np.zeros((30,7))   ## scrapping of product i (row) in period t (column)\n",
    "u_i_t = np.zeros((30,7))   ## inventory of product i (row) in period t (column)"
   ]
  },
  {
   "cell_type": "code",
   "execution_count": null,
   "metadata": {},
   "outputs": [],
   "source": []
  }
 ],
 "metadata": {
  "kernelspec": {
   "display_name": "Python 3",
   "language": "python",
   "name": "python3"
  },
  "language_info": {
   "codemirror_mode": {
    "name": "ipython",
    "version": 3
   },
   "file_extension": ".py",
   "mimetype": "text/x-python",
   "name": "python",
   "nbconvert_exporter": "python",
   "pygments_lexer": "ipython3",
   "version": "3.7.3"
  }
 },
 "nbformat": 4,
 "nbformat_minor": 2
}
