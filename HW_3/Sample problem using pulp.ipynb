{
 "cells": [
  {
   "cell_type": "code",
   "execution_count": 3,
   "metadata": {},
   "outputs": [],
   "source": [
    "from pulp import *"
   ]
  },
  {
   "cell_type": "code",
   "execution_count": 4,
   "metadata": {},
   "outputs": [],
   "source": [
    "# dictionaries\n",
    "\n",
    "Chairs = [\"A\",\"B\"]\n",
    "costs = {\"A\":100, \"B\":150}\n",
    "Resources = [\"Lathe\",\"Polisher\"]\n",
    "capacity = {\"Lathe\"    : 40, \"Polisher\" : 48}"
   ]
  },
  {
   "cell_type": "code",
   "execution_count": 5,
   "metadata": {},
   "outputs": [
    {
     "data": {
      "text/plain": [
       "{'Lathe': {'A': 1, 'B': 2}, 'Polisher': {'A': 3, 'B': 1.5}}"
      ]
     },
     "execution_count": 5,
     "metadata": {},
     "output_type": "execute_result"
    }
   ],
   "source": [
    "activity = [  #Chairs\n",
    "              #A  B\n",
    "              [1, 2],  #Lathe\n",
    "              [3, 1.5,5] #Polisher\n",
    "              ]\n",
    "activity = makeDict([Resources,Chairs],activity)\n",
    "activity\n"
   ]
  },
  {
   "cell_type": "code",
   "execution_count": 4,
   "metadata": {},
   "outputs": [],
   "source": [
    "prob = LpProblem(\"Furniture Manufacturing Problem\", LpMaximize)\n",
    "vars = LpVariable.dicts(\"Number of Chairs\",Chairs, lowBound = 0)"
   ]
  },
  {
   "cell_type": "code",
   "execution_count": 5,
   "metadata": {},
   "outputs": [],
   "source": [
    "#objective\n",
    "prob += lpSum([costs[c]*vars[c] for c in Chairs])"
   ]
  },
  {
   "cell_type": "code",
   "execution_count": 6,
   "metadata": {},
   "outputs": [],
   "source": [
    "for r in Resources:\n",
    "    prob += lpSum([activity[r][c]*vars[c] for c in Chairs]) <= capacity[r], \\\n",
    "     \"capacity_of_%s\"%r "
   ]
  },
  {
   "cell_type": "code",
   "execution_count": 7,
   "metadata": {},
   "outputs": [],
   "source": [
    "prob.writeLP(\"furniture.lp\")"
   ]
  },
  {
   "cell_type": "code",
   "execution_count": 8,
   "metadata": {},
   "outputs": [
    {
     "data": {
      "text/plain": [
       "1"
      ]
     },
     "execution_count": 8,
     "metadata": {},
     "output_type": "execute_result"
    }
   ],
   "source": [
    "prob.solve()"
   ]
  },
  {
   "cell_type": "code",
   "execution_count": 9,
   "metadata": {},
   "outputs": [
    {
     "name": "stdout",
     "output_type": "stream",
     "text": [
      "Number_of_Chairs_A = 8.0\n",
      "Number_of_Chairs_B = 16.0\n"
     ]
    }
   ],
   "source": [
    "# Each of the variables is printed with it's value\n",
    "for v in prob.variables():\n",
    "    print(v.name, \"=\", v.varValue)"
   ]
  },
  {
   "cell_type": "code",
   "execution_count": 10,
   "metadata": {},
   "outputs": [
    {
     "name": "stdout",
     "output_type": "stream",
     "text": [
      "Total Revenue from Production =  3200.0\n"
     ]
    }
   ],
   "source": [
    "# The optimised objective function value is printed to the screen    \n",
    "print(\"Total Revenue from Production = \", value(prob.objective))"
   ]
  },
  {
   "cell_type": "code",
   "execution_count": null,
   "metadata": {},
   "outputs": [],
   "source": []
  }
 ],
 "metadata": {
  "kernelspec": {
   "display_name": "Python 3",
   "language": "python",
   "name": "python3"
  },
  "language_info": {
   "codemirror_mode": {
    "name": "ipython",
    "version": 3
   },
   "file_extension": ".py",
   "mimetype": "text/x-python",
   "name": "python",
   "nbconvert_exporter": "python",
   "pygments_lexer": "ipython3",
   "version": "3.7.3"
  }
 },
 "nbformat": 4,
 "nbformat_minor": 2
}
